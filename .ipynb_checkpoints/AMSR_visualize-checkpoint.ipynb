{
 "cells": [
  {
   "cell_type": "markdown",
   "metadata": {},
   "source": [
    "Copyright (C) 2017 The HDF Group\n",
    " \n",
    "This example code illustrates how to access and visualize NSIDC\n",
    "AMSR HDF-EOS5 Point product in Python via OPeNDAP.\n",
    "\n",
    "If you have any questions, suggestions, or comments on this example, please use the HDF-EOS Forum (http://hdfeos.org/forums).\n",
    "\n",
    "If you would like to see an example of any other NASA HDF/HDF-EOS data\n",
    "product that is not listed in the HDF-EOS Comprehensive Examples page\n",
    "(http://hdfeos.org/zoo), feel free to contact us at eoshelp@hdfgroup.org or post it at the HDF-EOS Forum (http://hdfeos.org/forums).\n",
    "\n",
    "\n",
    "\n",
    "Tested under: Python 2.7.13 :: Anaconda 4.3.1 (x86_64)\n",
    "\n",
    "Last updated: 2017-3-13\n"
   ]
  },
  {
   "cell_type": "code",
   "execution_count": 4,
   "metadata": {},
   "outputs": [
    {
     "ename": "ModuleNotFoundError",
     "evalue": "No module named 'mpl'",
     "output_type": "error",
     "traceback": [
      "\u001b[0;31m---------------------------------------------------------------------------\u001b[0m",
      "\u001b[0;31mModuleNotFoundError\u001b[0m                       Traceback (most recent call last)",
      "Cell \u001b[0;32mIn[4], line 4\u001b[0m\n\u001b[1;32m      2\u001b[0m \u001b[38;5;28;01mimport\u001b[39;00m \u001b[38;5;21;01mmatplotlib\u001b[39;00m \u001b[38;5;28;01mas\u001b[39;00m \u001b[38;5;21;01mmpl\u001b[39;00m\n\u001b[1;32m      3\u001b[0m \u001b[38;5;28;01mimport\u001b[39;00m \u001b[38;5;21;01mmatplotlib\u001b[39;00m\u001b[38;5;21;01m.\u001b[39;00m\u001b[38;5;21;01mpyplot\u001b[39;00m \u001b[38;5;28;01mas\u001b[39;00m \u001b[38;5;21;01mplt\u001b[39;00m\n\u001b[0;32m----> 4\u001b[0m \u001b[38;5;28;01mfrom\u001b[39;00m \u001b[38;5;21;01mmpl\u001b[39;00m \u001b[38;5;28;01mimport\u001b[39;00m Basemap\n\u001b[1;32m      5\u001b[0m \u001b[38;5;28;01mimport\u001b[39;00m \u001b[38;5;21;01mnumpy\u001b[39;00m \u001b[38;5;28;01mas\u001b[39;00m \u001b[38;5;21;01mnp\u001b[39;00m\n\u001b[1;32m      6\u001b[0m \u001b[38;5;28;01mimport\u001b[39;00m \u001b[38;5;21;01mcsv\u001b[39;00m\n",
      "\u001b[0;31mModuleNotFoundError\u001b[0m: No module named 'mpl'"
     ]
    }
   ],
   "source": [
    "import os\n",
    "import matplotlib as mpl\n",
    "import matplotlib.pyplot as plt\n",
    "from mpl.toolkits.basemap import Basemap\n",
    "import numpy as np\n",
    "import csv\n",
    "import urllib2\n",
    "import math"
   ]
  },
  {
   "cell_type": "markdown",
   "metadata": {},
   "source": [
    "Set OPeNDAP URL. NSIDC runs a [Hyrax server that enables CF output](http://n5eil01u.ecs.nsidc.org/opendap/hyrax/AMSA/AU_Land.001/2012.07.23/AMSR_U2_L2_Land_B01_201207232336_D.he5.html) for HDF5 data product. Such server cannot handle compound data type in HDF-EOS5 Point data product. Therefore, we copied a sample file and put it on our demo [Hyrax server that disabled CF Output](https://eosdap.hdfgroup.org:8989/opendap/hyrax/data/NASAFILES/hdf5/AMSR_U2_L2_Land_B01_201207232336_D.he5.html). \n",
    "\n",
    "For large subset of data, this code will not work for some reason. Thus, we select 10 points using OPeNDAP's constraint expression. \n",
    "\n",
    "Neither PyDAP nor netCDF4 python module can handle OPeNDAP's array of structure.Thus, we will read data in ASCII instead of DAP2."
   ]
  },
  {
   "cell_type": "code",
   "execution_count": null,
   "metadata": {},
   "outputs": [],
   "source": [
    "url = (\"https://eosdap.hdfgroup.org:8989\" # Server\n",
    "    \"/opendap/hyrax/data/NASAFILES/hdf5/\" # Path to data on server\n",
    "    \"AMSR_U2_L2_Land_B01_201207232336_D.he5\" # HDF-EOS5 Point file\n",
    "    \".ascii?\" # OPeNDAP request\n",
    "    \"/HDFEOS/POINTS/AMSR-2%20Level%202%20Land%20Data/Data/\" # Group Path\n",
    "    \"Combined%20NPD%20and%20SCA%20Output%20Fields\" # HDF5 Dataset\n",
    "    \"[3700:1:3709]\") # OPeNDAP constraint - select 10 points.\n",
    "response = urllib2.urlopen(url)\n",
    "cr = csv.reader(response)\n",
    "\n",
    "# The first line of output is dataset name.\n",
    "i = 0\n",
    "# Every 3rd row is the actual value in CSV format.\n",
    "j = -1\n",
    "lat = np.array([], dtype=float)\n",
    "lon = np.array([], dtype=float)\n",
    "data = np.array([], dtype=float)\n",
    "for row in cr:\n",
    "    if i != 0:\n",
    "        j = j+1\n",
    "    if i != 0 and (j % 3 == 2):\n",
    "        # Latitude        \n",
    "        # print row[1]\n",
    "        lat = np.append(lat, float(row[1]))\n",
    "        # Longitude        \n",
    "        # print row[2] \n",
    "        lon = np.append(lon, float(row[2]))\n",
    "        # SoilMoistureNPD        \n",
    "        # print row[16]\n",
    "        data = np.append(data, float(row[16]))\n",
    "    i = i+1\n",
    "print lat, lon, data"
   ]
  },
  {
   "cell_type": "markdown",
   "metadata": {},
   "source": [
    "Let's plot the data using the above lat/lon/data ASCII values retrieved from OPeNDAP server."
   ]
  },
  {
   "cell_type": "code",
   "execution_count": null,
   "metadata": {},
   "outputs": [],
   "source": [
    "m = Basemap(projection='cyl', resolution='l',\n",
    "             llcrnrlat=-90, urcrnrlat=90,\n",
    "             llcrnrlon=-180, urcrnrlon=180)\n",
    "m.drawcoastlines(linewidth=0.5)\n",
    "m.scatter(lon, lat, c=data, s=1, cmap=plt.cm.jet, edgecolors=None, linewidth=0)\n",
    "fig = plt.gcf()\n",
    "plt.show()"
   ]
  },
  {
   "cell_type": "markdown",
   "metadata": {},
   "source": [
    "It's hard to see the data on global map. Let's zoom in."
   ]
  },
  {
   "cell_type": "code",
   "execution_count": null,
   "metadata": {},
   "outputs": [],
   "source": [
    "m = Basemap(projection='cyl', resolution='l',\n",
    "             llcrnrlat=math.floor(np.min(lat))+5,\n",
    "             urcrnrlat=math.ceil(np.max(lat))-5,\n",
    "             llcrnrlon=math.floor(np.min(lon)-5),\n",
    "             urcrnrlon=math.ceil(np.max(lon))+5)\n",
    "m.drawcoastlines(linewidth=0.5)\n",
    "m.drawparallels(np.arange(math.floor(np.min(lat))-5,\n",
    "                          math.ceil(np.max(lat))+5, 5),\n",
    "                labels=[True,False,False,False])\n",
    "m.drawmeridians(np.arange(math.floor(np.min(lon))-5,\n",
    "                          math.ceil(np.max(lon))+5, 5),\n",
    "                labels=[False,False,False,True])\n",
    "m.scatter(lon, lat, c=data, s=1, cmap=plt.cm.jet, edgecolors=None, linewidth=0)\n",
    "cb = m.colorbar()\n",
    "\n",
    "basename = 'AMSR_U2_L2_Land_B01_201207232336_D.he5'\n",
    "plt.title('{0}\\n{1}'.format(basename, 'SoilMoistureNPD'))\n",
    "fig = plt.gcf()\n",
    "plt.show()"
   ]
  },
  {
   "cell_type": "markdown",
   "metadata": {},
   "source": [
    "You can save it as CSV and visualize data easily with Excel."
   ]
  },
  {
   "cell_type": "code",
   "execution_count": null,
   "metadata": {},
   "outputs": [],
   "source": [
    "a = np.column_stack((lat, lon, data))\n",
    "print a\n",
    "np.savetxt(\"AMSR_U2_L2.csv\", a, delimiter=\",\")"
   ]
  },
  {
   "cell_type": "markdown",
   "metadata": {},
   "source": [
    "Here's the Excel 3-D Map image generated from the above CSV file.\n",
    "\n",
    "![Excel 3-D Map](http://hdfeos.org/example/images/excel/AMSR_U_excel_3d_map.png)"
   ]
  }
 ],
 "metadata": {
  "kernelspec": {
   "display_name": "Python3 (opendap)",
   "language": "python",
   "name": "opendap"
  },
  "language_info": {
   "codemirror_mode": {
    "name": "ipython",
    "version": 3
   },
   "file_extension": ".py",
   "mimetype": "text/x-python",
   "name": "python",
   "nbconvert_exporter": "python",
   "pygments_lexer": "ipython3",
   "version": "3.9.16"
  }
 },
 "nbformat": 4,
 "nbformat_minor": 2
}
